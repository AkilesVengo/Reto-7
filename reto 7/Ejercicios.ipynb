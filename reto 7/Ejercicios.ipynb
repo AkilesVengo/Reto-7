{
 "cells": [
  {
   "cell_type": "markdown",
   "metadata": {},
   "source": [
    "# Reto 7\n",
    "#### 1.Imprimir un listado con los números del 1 al 100 cada uno con su respectivo cuadrado."
   ]
  },
  {
   "cell_type": "code",
   "execution_count": null,
   "metadata": {},
   "outputs": [],
   "source": [
    "n = 0\n",
    "while ( n < 100):\n",
    "    n += 1\n",
    "    print (n, n**2)"
   ]
  },
  {
   "cell_type": "markdown",
   "metadata": {},
   "source": [
    "#### 2. Imprimir un listado con los números impares desde 1 hasta 999 y seguidamente otro listado con los números pares desde 2 hasta 1000."
   ]
  },
  {
   "cell_type": "code",
   "execution_count": null,
   "metadata": {},
   "outputs": [],
   "source": [
    "p = 2\n",
    "i = 1\n",
    "print(i)\n",
    "while (i < 999):\n",
    "    i += 2\n",
    "    print(i)\n",
    "print(p)\n",
    "while (p < 1000):\n",
    "    p += 2\n",
    "    print(p)\n"
   ]
  },
  {
   "cell_type": "markdown",
   "metadata": {},
   "source": [
    "#### 3. Imprimir los números pares en forma descendente hasta 2 que son menores o iguales a un número natural n ≥ 2 dado"
   ]
  },
  {
   "cell_type": "code",
   "execution_count": null,
   "metadata": {},
   "outputs": [],
   "source": [
    "n = int(input(\"numero deseado: \"))\n",
    "\n",
    "while (n >= 2):\n",
    "    if n == 2: \n",
    "        print (n)\n",
    "        break\n",
    "    if n %2 == 0 :\n",
    "        print(n)\n",
    "        n -=1\n",
    "    else: n -=1\n",
    "if n < 2 : print(\"ingrese un numero mayor o igual a 2\")"
   ]
  },
  {
   "cell_type": "markdown",
   "metadata": {},
   "source": [
    "#### 4.En 2022 el país A tendrá una población de 25 millones de habitantes y el país B de 18.9 millones. Las tasas de crecimiento anual de la población serán de 2% y 3% respectivamente. Desarrollar un algoritmo para informar en que año la población del país B superará a la de A."
   ]
  },
  {
   "cell_type": "code",
   "execution_count": null,
   "metadata": {},
   "outputs": [],
   "source": [
    "pais_A = 25\n",
    "pais_B = 18.5\n",
    "año = 2022\n",
    "while pais_A > pais_B :\n",
    "    pais_A = pais_A * (1 + 00.2)**1\n",
    "    pais_B = pais_B * (1 + 00.3)**1\n",
    "    año += 1\n",
    "print (\"en el año \",año,\"el pais B superara al pais A \")\n",
    "print (pais_B,\",\", pais_A ,\"millones de personas respectivamente \")"
   ]
  },
  {
   "cell_type": "markdown",
   "metadata": {},
   "source": [
    "#### 5.Imprimir el factorial de un número natural n dado."
   ]
  },
  {
   "cell_type": "code",
   "execution_count": null,
   "metadata": {},
   "outputs": [],
   "source": [
    "n = int(input(\"de un numero natural para hallar su factorial: \"))\n",
    "factorial= 1\n",
    "i = 1\n",
    "while i <= n :\n",
    "    factorial = factorial * i\n",
    "    i+= 1\n",
    "print (\"su numero factorial es \", factorial )"
   ]
  },
  {
   "cell_type": "markdown",
   "metadata": {},
   "source": [
    "#### 6.Implementar un algoritmo que permita adivinar un número dado de 1 a 100, preguntando en cada caso si el número es mayor, menor o igual."
   ]
  },
  {
   "cell_type": "code",
   "execution_count": null,
   "metadata": {},
   "outputs": [],
   "source": [
    "import random\n",
    "\n",
    "print(\"Piensa en un número entre 1 y 100 y presiona Enter.\")\n",
    "input(\"Cuando estés listo, presiona Enter para que comience la adivinanza.\")\n",
    "\n",
    "limite_inferior = 1\n",
    "limite_superior = 100\n",
    "adivinado = False\n",
    "intentos = 0\n",
    "\n",
    "while not adivinado:\n",
    "    # Adivina el número en el rango actual\n",
    "    intento = random.randint(limite_inferior, limite_superior)\n",
    "    \n",
    "    print(f\"¿Es {intento} tu número?\")\n",
    "    \n",
    "    respuesta = input(\"Ingresa 'mayor', 'menor' o 'igual': \").lower()\n",
    "\n",
    "    if respuesta == 'mayor':\n",
    "        limite_inferior = intento + 1\n",
    "    elif respuesta == 'menor':\n",
    "        limite_superior = intento - 1\n",
    "    elif respuesta == 'igual':\n",
    "        adivinado = True\n",
    "    else:\n",
    "        print(\"Respuesta no válida. Ingresa 'mayor', 'menor' o 'igual'.\")\n",
    "\n",
    "    intentos += 1\n",
    "\n",
    "print(f\"¡Adiviné tu número {intento} en {intentos} intentos!\")\n"
   ]
  },
  {
   "cell_type": "markdown",
   "metadata": {},
   "source": [
    "#### 7.Implementar un programa que ingrese un número de 2 a 50 y muestre sus divisores."
   ]
  },
  {
   "cell_type": "code",
   "execution_count": null,
   "metadata": {},
   "outputs": [],
   "source": [
    "\n",
    "numero = int(input(\"Ingresa un número entre 2 y 50: \"))\n",
    "\n",
    "\n",
    "while numero < 2 or numero > 50:\n",
    "    print(\"Número fuera del rango. Inténtalo de nuevo.\")\n",
    "    numero = int(input(\"Ingresa un número entre 2 y 50: \"))\n",
    "\n",
    "divisor = 1\n",
    "\n",
    "# Mostrar los divisores del número\n",
    "print(f\"Divisores de {numero}:\")\n",
    "\n",
    "while divisor <= numero:\n",
    "    if numero % divisor == 0:\n",
    "        print(divisor)\n",
    "    divisor += 1\n"
   ]
  },
  {
   "cell_type": "markdown",
   "metadata": {},
   "source": [
    "#### 8.Implementar el algoritmo que muestre los números primos del 1 al 100. Nota: use funciones"
   ]
  },
  {
   "cell_type": "code",
   "execution_count": null,
   "metadata": {},
   "outputs": [],
   "source": [
    "def es_primo(num):\n",
    "    if num < 2:\n",
    "        return False\n",
    "    i = 2\n",
    "    while i*i <= num:\n",
    "        if num % i == 0:\n",
    "            return False\n",
    "        i += 1\n",
    "    return True\n",
    "\n",
    "def mostrar_primos_rango(inicio, fin):\n",
    "    print(f\"Números primos en el rango {inicio} al {fin}:\")\n",
    "    numero = inicio\n",
    "    while numero <= fin:\n",
    "        if es_primo(numero):\n",
    "            print(numero)\n",
    "        numero += 1\n",
    "\n",
    "mostrar_primos_rango(1, 100)"
   ]
  }
 ],
 "metadata": {
  "kernelspec": {
   "display_name": "Python 3",
   "language": "python",
   "name": "python3"
  },
  "language_info": {
   "codemirror_mode": {
    "name": "ipython",
    "version": 3
   },
   "file_extension": ".py",
   "mimetype": "text/x-python",
   "name": "python",
   "nbconvert_exporter": "python",
   "pygments_lexer": "ipython3",
   "version": "3.11.2"
  }
 },
 "nbformat": 4,
 "nbformat_minor": 2
}
